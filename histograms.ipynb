{
 "cells": [
  {
   "cell_type": "code",
   "execution_count": 2,
   "metadata": {},
   "outputs": [],
   "source": [
    "import cv2\n",
    "import numpy as np\n",
    "import matplotlib.pyplot as plt\n",
    "%matplotlib inline"
   ]
  },
  {
   "cell_type": "code",
   "execution_count": 3,
   "metadata": {},
   "outputs": [],
   "source": [
    "dark_horse = cv2.imread('data/horse.jpg')\n",
    "shor_horse = cv2.cvtColor(dark_horse,cv2.COLOR_BGR2RGB)\n",
    "\n",
    "rainbow = cv2.imread('data/rainbow.jpg')\n",
    "shor_rainbow = cv2.cvtColor(rainbow,cv2.COLOR_BGR2RGB)\n",
    "\n",
    "blue_bricks = cv2.imread('data/bricks.jpg')\n",
    "shor_bricks = cv2.cvtColor(blue_bricks,cv2.COLOR_BGR2RGB)\n",
    "\n"
   ]
  }
 ],
 "metadata": {
  "kernelspec": {
   "display_name": "Python 3",
   "language": "python",
   "name": "python3"
  },
  "language_info": {
   "codemirror_mode": {
    "name": "ipython",
    "version": 3
   },
   "file_extension": ".py",
   "mimetype": "text/x-python",
   "name": "python",
   "nbconvert_exporter": "python",
   "pygments_lexer": "ipython3",
   "version": "3.12.5"
  }
 },
 "nbformat": 4,
 "nbformat_minor": 2
}
